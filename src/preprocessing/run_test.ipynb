{
 "cells": [
  {
   "cell_type": "code",
   "execution_count": 1,
   "metadata": {},
   "outputs": [],
   "source": [
    "import pandas as pd"
   ]
  },
  {
   "cell_type": "markdown",
   "metadata": {},
   "source": [
    "# test en local"
   ]
  },
  {
   "cell_type": "code",
   "execution_count": 4,
   "metadata": {},
   "outputs": [],
   "source": [
    "from load import merge"
   ]
  },
  {
   "cell_type": "code",
   "execution_count": 10,
   "metadata": {},
   "outputs": [
    {
     "data": {
      "text/plain": [
       "'c:\\\\Users\\\\guibe\\\\OneDrive\\\\Documents\\\\ENSAE\\\\3A\\\\S2\\\\Mise en prod\\\\projet\\\\Projet-Mise-en-prod-3A\\\\src\\\\preprocessing'"
      ]
     },
     "execution_count": 10,
     "metadata": {},
     "output_type": "execute_result"
    }
   ],
   "source": [
    "import os\n",
    "os.getcwd()"
   ]
  },
  {
   "cell_type": "code",
   "execution_count": 12,
   "metadata": {},
   "outputs": [
    {
     "name": "stdout",
     "output_type": "stream",
     "text": [
      "Nutrition data set loaded in --- 14.678776741027832 seconds ---\n",
      "From 331332 to 74612\n",
      "Cleaned in --- 13.132657766342163 seconds ---\n",
      "Measurements data set loaded in --- 107.70445680618286 seconds ---\n",
      "From 422173 to 422143\n",
      "Cleaned in --- 71.81723666191101 seconds ---\n"
     ]
    }
   ],
   "source": [
    "path1 = '../../../recipes.parquet'\n",
    "path2 = '../../../recipes_data.parquet'\n",
    "\n",
    "merged = merge(path1, path2)"
   ]
  },
  {
   "cell_type": "code",
   "execution_count": 13,
   "metadata": {},
   "outputs": [],
   "source": [
    "from format import data_preprocessing"
   ]
  },
  {
   "cell_type": "code",
   "execution_count": 14,
   "metadata": {},
   "outputs": [],
   "source": [
    "df_prepro = data_preprocessing(merged)"
   ]
  },
  {
   "cell_type": "code",
   "execution_count": 15,
   "metadata": {},
   "outputs": [],
   "source": [
    "from filter import data_filter"
   ]
  },
  {
   "cell_type": "code",
   "execution_count": 16,
   "metadata": {},
   "outputs": [],
   "source": [
    "df_filtered = data_filter(df_prepro)"
   ]
  },
  {
   "cell_type": "code",
   "execution_count": null,
   "metadata": {},
   "outputs": [],
   "source": [
    "#df_filtered.to_parquet('app_dataset.parquet')"
   ]
  },
  {
   "cell_type": "markdown",
   "metadata": {},
   "source": [
    "# test appel données s3 \n",
    "\n",
    "(dépend de la connexion internet)"
   ]
  },
  {
   "cell_type": "code",
   "execution_count": 17,
   "metadata": {},
   "outputs": [
    {
     "name": "stdout",
     "output_type": "stream",
     "text": [
      "Nutrition data set loaded in --- 79.61834287643433 seconds ---\n",
      "From 331332 to 74612\n",
      "Cleaned in --- 33.32798671722412 seconds ---\n",
      "Measurements data set loaded in --- 316.06806778907776 seconds ---\n",
      "From 422173 to 422143\n",
      "Cleaned in --- 146.3246555328369 seconds ---\n"
     ]
    }
   ],
   "source": [
    "path1 = 'https://minio.lab.sspcloud.fr/nguibe/mise-en-prod/recipes.parquet'\n",
    "path2 = 'https://minio.lab.sspcloud.fr/nguibe/mise-en-prod/recipes_data.parquet'\n",
    "merged = merge(path1, path2)"
   ]
  },
  {
   "cell_type": "code",
   "execution_count": 18,
   "metadata": {},
   "outputs": [],
   "source": [
    "df_prepro = data_preprocessing(merged)\n",
    "df_filtered = data_filter(df_prepro)"
   ]
  }
 ],
 "metadata": {
  "kernelspec": {
   "display_name": "vscode",
   "language": "python",
   "name": "python3"
  },
  "language_info": {
   "codemirror_mode": {
    "name": "ipython",
    "version": 3
   },
   "file_extension": ".py",
   "mimetype": "text/x-python",
   "name": "python",
   "nbconvert_exporter": "python",
   "pygments_lexer": "ipython3",
   "version": "3.11.9"
  }
 },
 "nbformat": 4,
 "nbformat_minor": 2
}
